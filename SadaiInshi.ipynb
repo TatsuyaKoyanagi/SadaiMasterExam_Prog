{
  "nbformat": 4,
  "nbformat_minor": 0,
  "metadata": {
    "colab": {
      "provenance": [],
      "authorship_tag": "ABX9TyM8e0zeshakdob/egBXUzYc",
      "include_colab_link": true
    },
    "kernelspec": {
      "name": "python3",
      "display_name": "Python 3"
    },
    "language_info": {
      "name": "python"
    }
  },
  "cells": [
    {
      "cell_type": "markdown",
      "metadata": {
        "id": "view-in-github",
        "colab_type": "text"
      },
      "source": [
        "<a href=\"https://colab.research.google.com/github/TatsuyaKoyanagi/SadaiMasterExam_Prog/blob/main/SadaiInshi.ipynb\" target=\"_parent\"><img src=\"https://colab.research.google.com/assets/colab-badge.svg\" alt=\"Open In Colab\"/></a>"
      ]
    },
    {
      "cell_type": "code",
      "source": [
        "!apt install build-essential"
      ],
      "metadata": {
        "colab": {
          "base_uri": "https://localhost:8080/"
        },
        "id": "nCD1wzFpK-c0",
        "outputId": "0ed98a5b-1dc3-4c3c-99db-d07f96c923d0"
      },
      "execution_count": null,
      "outputs": [
        {
          "output_type": "stream",
          "name": "stdout",
          "text": [
            "Reading package lists... Done\n",
            "Building dependency tree... Done\n",
            "Reading state information... Done\n",
            "build-essential is already the newest version (12.9ubuntu3).\n",
            "0 upgraded, 0 newly installed, 0 to remove and 45 not upgraded.\n"
          ]
        }
      ]
    },
    {
      "cell_type": "code",
      "source": [
        "%%writefile hello.cpp\n",
        "#include <iostream>\n",
        "\n",
        "int main()\n",
        "{\n",
        "    std::cout << \"Hello World!!!\" << std::endl;\n",
        "\n",
        "    return 0;\n",
        "}\n"
      ],
      "metadata": {
        "colab": {
          "base_uri": "https://localhost:8080/"
        },
        "id": "bavKSsshL7qH",
        "outputId": "c3642b7b-7f31-48ba-e9b2-216ba89557c5"
      },
      "execution_count": null,
      "outputs": [
        {
          "output_type": "stream",
          "name": "stdout",
          "text": [
            "Writing hello.cpp\n"
          ]
        }
      ]
    },
    {
      "cell_type": "code",
      "source": [
        "!g++ hello.cpp -o hello"
      ],
      "metadata": {
        "id": "3s7IQbaRMILY"
      },
      "execution_count": null,
      "outputs": []
    },
    {
      "cell_type": "code",
      "source": [
        "!./hello"
      ],
      "metadata": {
        "id": "vz0zBoHWMaxL",
        "outputId": "8da047fe-fee4-4bad-8e4f-35ada9c1dfac",
        "colab": {
          "base_uri": "https://localhost:8080/"
        }
      },
      "execution_count": null,
      "outputs": [
        {
          "output_type": "stream",
          "name": "stdout",
          "text": [
            "Hello World!!!\n"
          ]
        }
      ]
    },
    {
      "cell_type": "code",
      "source": [
        "%%writefile 2021.cpp\n",
        "#include <iostream>\n",
        "using namespace std;\n",
        "\n",
        "int functionX(int a, int b, int c);  // プロトタイプ宣言\n",
        "int q1();  // プロトタイプ宣言\n",
        "\n",
        "int main(){\n",
        "  q1();\n",
        "}\n",
        "\n",
        "int functionX(int a,int b, int c){\n",
        "  if(c>0){\n",
        "    return functionX(a+b,b+1,c-1);\n",
        "  }else{\n",
        "    return a+b;\n",
        "  }\n",
        "}\n",
        "\n",
        "int q1(){\n",
        "  cout<<functionX(5,4,3)<<endl;\n",
        "  cout<< functionX(3,4,5)<<endl;\n",
        "  return 0;\n",
        "}"
      ],
      "metadata": {
        "colab": {
          "base_uri": "https://localhost:8080/"
        },
        "id": "er0xfqVdPVx1",
        "outputId": "79931341-019a-498f-f399-f839475d4c28"
      },
      "execution_count": 37,
      "outputs": [
        {
          "output_type": "stream",
          "name": "stdout",
          "text": [
            "Overwriting 2021.cpp\n"
          ]
        }
      ]
    },
    {
      "cell_type": "code",
      "source": [
        "!g++ 2021.cpp -o 2021"
      ],
      "metadata": {
        "id": "SCEr2nBSRRr5"
      },
      "execution_count": 38,
      "outputs": []
    },
    {
      "cell_type": "code",
      "source": [
        "!./2021"
      ],
      "metadata": {
        "colab": {
          "base_uri": "https://localhost:8080/"
        },
        "id": "e2DnhsdRSRoG",
        "outputId": "8d289e55-48c3-4f52-84da-12c1ff2466e1"
      },
      "execution_count": 40,
      "outputs": [
        {
          "output_type": "stream",
          "name": "stdout",
          "text": [
            "27\n",
            "42\n"
          ]
        }
      ]
    },
    {
      "cell_type": "code",
      "source": [
        "%%writefile 2021_2.cpp\n",
        "#include <iostream>\n",
        "using namespace std;\n",
        "\n",
        "int main() {\n",
        "    int data[5][5];\n",
        "    int x = 2, y = 2;\n",
        "    int num = 0;\n",
        "\n",
        "    data[y][x] = num;\n",
        "    num++;\n",
        "\n",
        "    for (int i = 1; i < 4; i += 2) {\n",
        "        for (int j = 0; j < i; j++) {\n",
        "            y -= 1;\n",
        "            data[y][x] = num;\n",
        "            num++;\n",
        "        }\n",
        "        for (int j = 0; j < i; j++) {\n",
        "            x -= 1;\n",
        "            data[y][x] = num;\n",
        "            num++;\n",
        "        }\n",
        "        for (int j = 0; j < i + 1; j++) {\n",
        "            y += 1;\n",
        "            data[y][x] = num;\n",
        "            num++;\n",
        "        }\n",
        "        for (int j = 0; j < i + 1; j++) {\n",
        "            x += 1;\n",
        "            data[y][x] = num;\n",
        "            num++;\n",
        "        }\n",
        "    }\n",
        "\n",
        "    for (int j = 0; j < 4; j++) {\n",
        "        y -= 1;\n",
        "        data[y][x] = num;\n",
        "        num++;\n",
        "    }\n",
        "\n",
        "    for (int y = 0; y < 5; y++) {\n",
        "        for (int x = 0; x < 5; x++) {\n",
        "            cout << data[y][x] << \"\\t\";\n",
        "        }\n",
        "        cout << endl;\n",
        "    }\n",
        "}\n",
        "\n"
      ],
      "metadata": {
        "colab": {
          "base_uri": "https://localhost:8080/"
        },
        "id": "1T2AYIx1VC5Q",
        "outputId": "cd6f7693-5b80-4495-c5d2-49941d3a5382"
      },
      "execution_count": 41,
      "outputs": [
        {
          "output_type": "stream",
          "name": "stdout",
          "text": [
            "Writing 2021_2.cpp\n"
          ]
        }
      ]
    },
    {
      "cell_type": "code",
      "source": [
        "!g++ 2021_2.cpp -o 2021_2"
      ],
      "metadata": {
        "id": "Y0y1GQT-VnDn"
      },
      "execution_count": 43,
      "outputs": []
    },
    {
      "cell_type": "code",
      "source": [
        "!./2021_2"
      ],
      "metadata": {
        "colab": {
          "base_uri": "https://localhost:8080/"
        },
        "id": "ayvna6caVxwW",
        "outputId": "0c8230c0-ebe3-4099-8b8f-bca90da564ef"
      },
      "execution_count": 44,
      "outputs": [
        {
          "output_type": "stream",
          "name": "stdout",
          "text": [
            "12\t11\t10\t9\t24\t\n",
            "13\t2\t1\t8\t23\t\n",
            "14\t3\t0\t7\t22\t\n",
            "15\t4\t5\t6\t21\t\n",
            "16\t17\t18\t19\t20\t\n"
          ]
        }
      ]
    },
    {
      "cell_type": "code",
      "source": [
        "mkdir e2021"
      ],
      "metadata": {
        "id": "WEFnS8pCWQKz"
      },
      "execution_count": 46,
      "outputs": []
    },
    {
      "cell_type": "code",
      "source": [
        "# prompt: 2021,2021.cpp,2021_2,2021.cppのファイルをe2021というディレクトリに移動させたい\n",
        "\n",
        "!mv 2021 e2021\n",
        "!mv 2021.cpp e2021\n",
        "!mv 2021_2 e2021\n",
        "!mv 2021_2.cpp e2021\n"
      ],
      "metadata": {
        "id": "Aj0nICnVWdIx"
      },
      "execution_count": 47,
      "outputs": []
    },
    {
      "cell_type": "code",
      "source": [
        "%%writefile 2021_3.cpp\n",
        "#include <iostream>\n",
        "#include <map>\n",
        "#include <vector>\n",
        "#include <algorithm>\n",
        "using namespace std;\n",
        "\n",
        "int main(){\n",
        "  int data[100];\n",
        "  for(int i=0;i<100;i++){\n",
        "    cin>>data[i];\n",
        "  }\n",
        "  cout<<\"1度しか入力されなかったのは以下の文字です\"<<endl;\n",
        "\n",
        "    map<int, int> countMap;\n",
        "    for (int i = 0; i < 100; i++) {\n",
        "        countMap[data[i]]++;\n",
        "    }\n",
        "\n",
        "    vector<int> uniqueNumbers;\n",
        "    for (const auto& pair : countMap) {\n",
        "        if (pair.second == 1) {\n",
        "            uniqueNumbers.push_back(pair.first);\n",
        "        }\n",
        "    }\n",
        "\n",
        "    sort(uniqueNumbers.begin(), uniqueNumbers.end());\n",
        "\n",
        "    for (int num : uniqueNumbers) {\n",
        "        cout << num << \" \";\n",
        "    }\n",
        "    cout << endl;\n",
        "\n",
        "}"
      ],
      "metadata": {
        "colab": {
          "base_uri": "https://localhost:8080/"
        },
        "id": "2hpFQJZrXNwO",
        "outputId": "be706a86-60d2-44ac-9f78-906f60f0a283"
      },
      "execution_count": 61,
      "outputs": [
        {
          "output_type": "stream",
          "name": "stdout",
          "text": [
            "Overwriting 2021_3.cpp\n"
          ]
        }
      ]
    },
    {
      "cell_type": "code",
      "source": [
        "!g++ 2021_3.cpp -o 2021_3"
      ],
      "metadata": {
        "id": "GPZt-RM4bVzq"
      },
      "execution_count": 62,
      "outputs": []
    },
    {
      "cell_type": "code",
      "source": [
        "!./2021_3"
      ],
      "metadata": {
        "colab": {
          "base_uri": "https://localhost:8080/"
        },
        "id": "sa1tQukEcpg_",
        "outputId": "caf27030-3f1e-4ebf-c8fd-4660b7421627"
      },
      "execution_count": 63,
      "outputs": [
        {
          "output_type": "stream",
          "name": "stdout",
          "text": [
            "1\n",
            "3\n",
            "25\n",
            "72\n",
            "1\n",
            "35\n",
            "5\n",
            "6\n",
            "6\n",
            "7\n",
            "75\n",
            "\n",
            "345\n",
            "7\n",
            "37\n",
            "37737\n",
            "7\n",
            "3\n",
            "4\n",
            "4\n",
            "6\n",
            "6\n",
            "6\n",
            "5\n",
            "44\n",
            "6\n",
            "8\n",
            "7\n",
            "6\n",
            "6\n",
            "76\n",
            "8\n",
            "9\n",
            "0\n",
            "3\n",
            "2\n",
            "2\n",
            "3\n",
            "4\n",
            "4\n",
            "5\n",
            "5\n",
            "\n",
            "77777\n",
            "88888\n",
            "5456\n",
            "23232\n",
            "432\n",
            "32\n",
            "24\n",
            "56\n",
            "235\n",
            "78\n",
            "90\n",
            "766\n",
            "54\n",
            "67\n",
            "78\n",
            "0\n",
            "9\n",
            "8\n",
            "7\n",
            "66\n",
            "77\n",
            "8\n",
            "543\n",
            "456\n",
            "778\n",
            "22\n",
            "32\n",
            "34\n",
            "32\n",
            "45\n",
            "76\n",
            "86\n",
            "4\n",
            "34\n",
            "34\n",
            "653\n",
            "4563\n",
            "53\n",
            "24\n",
            "624\n",
            "2452\n",
            "24623\n",
            "4626\n",
            "134\n",
            "1413\n",
            "5324\n",
            "3425\n",
            "62342456365\n",
            "1度しか入力されなかったのは以下の文字です\n",
            "22 25 35 37 44 45 53 54 56 66 67 72 75 77 86 90 134 235 345 432 456 543 624 653 766 778 1413 2452 3425 4563 4626 5324 5456 23232 24623 37737 77777 88888 2147483647 \n"
          ]
        }
      ]
    }
  ]
}